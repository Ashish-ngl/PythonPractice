{
  "nbformat": 4,
  "nbformat_minor": 0,
  "metadata": {
    "colab": {
      "provenance": [],
      "authorship_tag": "ABX9TyMNjf8x/99gStclTW0e3Ibo",
      "include_colab_link": true
    },
    "kernelspec": {
      "name": "python3",
      "display_name": "Python 3"
    },
    "language_info": {
      "name": "python"
    }
  },
  "cells": [
    {
      "cell_type": "markdown",
      "metadata": {
        "id": "view-in-github",
        "colab_type": "text"
      },
      "source": [
        "<a href=\"https://colab.research.google.com/github/Ashish-ngl/PythonPractice/blob/main/Decorators.ipynb\" target=\"_parent\"><img src=\"https://colab.research.google.com/assets/colab-badge.svg\" alt=\"Open In Colab\"/></a>"
      ]
    },
    {
      "cell_type": "code",
      "execution_count": null,
      "metadata": {
        "colab": {
          "base_uri": "https://localhost:8080/"
        },
        "id": "ky1P-hZ4LRm7",
        "outputId": "a82fcdee-2b3f-449d-daae-e36229f49269"
      },
      "outputs": [
        {
          "output_type": "stream",
          "name": "stdout",
          "text": [
            "hello\n"
          ]
        }
      ],
      "source": [
        "print(\"hello\")"
      ]
    },
    {
      "cell_type": "code",
      "source": [
        "def new_decorator(func):\n",
        "\n",
        "    def wrap_func():\n",
        "        print(\"Code would be here, before executing the func\")\n",
        "\n",
        "        func()\n",
        "\n",
        "        print(\"Code here will execute after the func()\")\n",
        "\n",
        "    return wrap_func\n",
        "\n",
        "def func_needs_decorator():\n",
        "    print(\"This function is in need of a Decorator\")"
      ],
      "metadata": {
        "id": "xvPrDp_tMfMN"
      },
      "execution_count": null,
      "outputs": []
    },
    {
      "cell_type": "code",
      "source": [
        "func_needs_decorator()"
      ],
      "metadata": {
        "colab": {
          "base_uri": "https://localhost:8080/"
        },
        "id": "c0fDkYwlMm7Z",
        "outputId": "5fb45585-2b90-4a09-a201-0ecaa273ead6"
      },
      "execution_count": null,
      "outputs": [
        {
          "output_type": "stream",
          "name": "stdout",
          "text": [
            "This function is in need of a Decorator\n"
          ]
        }
      ]
    },
    {
      "cell_type": "code",
      "source": [
        "func_needs_decorator = new_decorator(func_needs_decorator)"
      ],
      "metadata": {
        "id": "TL8yEH68MuB0"
      },
      "execution_count": null,
      "outputs": []
    },
    {
      "cell_type": "code",
      "source": [
        "func_needs_decorator()"
      ],
      "metadata": {
        "colab": {
          "base_uri": "https://localhost:8080/"
        },
        "id": "_nPpfBCDMyyK",
        "outputId": "6b6aa191-4246-4aa7-c04b-e23be2b376b1"
      },
      "execution_count": null,
      "outputs": [
        {
          "output_type": "stream",
          "name": "stdout",
          "text": [
            "Code would be here, before executing the func\n",
            "This function is in need of a Decorator\n",
            "Code here will execute after the func()\n"
          ]
        }
      ]
    },
    {
      "cell_type": "code",
      "source": [
        "@new_decorator\n",
        "def func_needs_decorator():\n",
        "    print(\"This function is in need of a Decorator\")\n",
        "func_needs_decorator()"
      ],
      "metadata": {
        "id": "2LzZLj25M33F",
        "outputId": "9574bcfa-c955-4b2f-f0e9-0cb679e3148e",
        "colab": {
          "base_uri": "https://localhost:8080/"
        }
      },
      "execution_count": null,
      "outputs": [
        {
          "output_type": "stream",
          "name": "stdout",
          "text": [
            "Code would be here, before executing the func\n",
            "This function is in need of a Decorator\n",
            "Code here will execute after the func()\n"
          ]
        }
      ]
    }
  ]
}